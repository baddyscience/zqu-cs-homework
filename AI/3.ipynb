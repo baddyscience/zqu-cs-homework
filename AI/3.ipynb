{
 "cells": [
  {
   "cell_type": "markdown",
   "metadata": {},
   "source": [
    "202224111120\n",
    "段志清"
   ]
  },
  {
   "cell_type": "code",
   "execution_count": 1,
   "metadata": {},
   "outputs": [
    {
     "name": "stderr",
     "output_type": "stream",
     "text": [
      "[nltk_data] Downloading package movie_reviews to\n",
      "[nltk_data]     C:\\Users\\Museum\\AppData\\Roaming\\nltk_data...\n",
      "[nltk_data]   Unzipping corpora\\movie_reviews.zip.\n",
      "[nltk_data] Downloading package punkt to\n",
      "[nltk_data]     C:\\Users\\Museum\\AppData\\Roaming\\nltk_data...\n",
      "[nltk_data]   Unzipping tokenizers\\punkt.zip.\n"
     ]
    },
    {
     "data": {
      "text/plain": [
       "True"
      ]
     },
     "execution_count": 1,
     "metadata": {},
     "output_type": "execute_result"
    }
   ],
   "source": [
    "import nltk\n",
    "nltk.download('movie_reviews')\n",
    "nltk.download('punkt')"
   ]
  },
  {
   "cell_type": "code",
   "execution_count": 6,
   "metadata": {},
   "outputs": [
    {
     "name": "stdout",
     "output_type": "stream",
     "text": [
      "\n",
      "Movie Review: This is a good movie, it has beautiful pictures\n",
      "Predicted result: Positive\n",
      "Probability: 0.68\n",
      "\n",
      "Movie Review: The expression of this movie is so bad that I do not like it\n",
      "Predicted result: Negative\n",
      "Probability: 0.7\n",
      "\n",
      "Movie Review: The framework and content of the film are very substantial\n",
      "Predicted result: Positive\n",
      "Probability: 0.67\n",
      "\n",
      "Movie Review: The performance of the actors in the film is so bad\n",
      "Predicted result: Neutral\n",
      "Probability: 0.57\n"
     ]
    }
   ],
   "source": [
    "from nltk.corpus import movie_reviews\n",
    "from nltk.classify import NaiveBayesClassifier\n",
    "from nltk.classify.util import accuracy as nltk_accuracy\n",
    "\n",
    "def extract_features(words):\n",
    "    return dict([(word, True) for word in words])\n",
    "\n",
    "def analyze_threshold_impact(classifier, reviews, pos_thresholds, neg_thresholds):\n",
    "    for pos_thresh in pos_thresholds:\n",
    "        for neg_thresh in neg_thresholds:\n",
    "            results = {'Positive': 0, 'Negative': 0, 'Neutral': 0}\n",
    "            for review in reviews:\n",
    "                words = review.split()\n",
    "                features = extract_features(words)\n",
    "                probabilities = classifier.prob_classify(features)\n",
    "                prob_pos = probabilities.prob('Positive')\n",
    "                prob_neg = probabilities.prob('Negative')\n",
    "                \n",
    "                if prob_pos >= pos_thresh:\n",
    "                    results['Positive'] += 1\n",
    "                elif prob_neg >= neg_thresh:\n",
    "                    results['Negative'] += 1\n",
    "                else:\n",
    "                    results['Neutral'] += 1\n",
    "\n",
    "if __name__ == '__main__':\n",
    "    # 加载和准备数据\n",
    "    fileids_pos = movie_reviews.fileids('pos')\n",
    "    fileids_neg = movie_reviews.fileids('neg')\n",
    "\n",
    "    features_pos = [(extract_features(movie_reviews.words(fileids=[f])), 'Positive') for f in fileids_pos]\n",
    "    features_neg = [(extract_features(movie_reviews.words(fileids=[f])), 'Negative') for f in fileids_neg]\n",
    "\n",
    "    # 分割数据集\n",
    "    threshold = 0.8\n",
    "    num_pos = int(threshold * len(features_pos))\n",
    "    num_neg = int(threshold * len(features_neg))\n",
    "\n",
    "    features_train = features_pos[:num_pos] + features_neg[:num_neg]\n",
    "    features_test = features_pos[num_pos:] + features_neg[num_neg:]\n",
    "\n",
    "    # 训练分类器\n",
    "    classifier = NaiveBayesClassifier.train(features_train)\n",
    "\n",
    "    # 输入审查以供演示\n",
    "    input_reviews = [\n",
    "        'This is a good movie, it has beautiful pictures',\n",
    "        'The expression of this movie is so bad that I do not like it',\n",
    "        'The framework and content of the film are very substantial',\n",
    "        'The performance of the actors in the film is so bad'\n",
    "    ]\n",
    "\n",
    "    # 演示使用不同阈值进行分类\n",
    "    test_thresholds = [0.5, 0.6, 0.7, 0.8]\n",
    "    analyze_threshold_impact(classifier, input_reviews, test_thresholds, test_thresholds)\n",
    "\n",
    "    # 显示带有样本阈值的详细预测\n",
    "    for review in input_reviews:\n",
    "        print(\"\\nMovie Review:\", review)\n",
    "        features = extract_features(review.split())\n",
    "        probabilities = classifier.prob_classify(features)\n",
    "        prob_pos = round(probabilities.prob('Positive'), 2)\n",
    "        prob_neg = round(probabilities.prob('Negative'), 2)\n",
    "        \n",
    "        # 应用阈值\n",
    "        if prob_pos >= 0.6:\n",
    "            sentiment = 'Positive'\n",
    "        elif prob_neg >= 0.6:\n",
    "            sentiment = 'Negative'\n",
    "        else:\n",
    "            sentiment = 'Neutral'\n",
    "        \n",
    "        print(f\"Predicted result: {sentiment}\")\n",
    "        print(f\"Probability: {prob_pos if prob_pos > prob_neg else prob_neg}\")"
   ]
  }
 ],
 "metadata": {
  "kernelspec": {
   "display_name": "Python 3",
   "language": "python",
   "name": "python3"
  },
  "language_info": {
   "codemirror_mode": {
    "name": "ipython",
    "version": 3
   },
   "file_extension": ".py",
   "mimetype": "text/x-python",
   "name": "python",
   "nbconvert_exporter": "python",
   "pygments_lexer": "ipython3",
   "version": "3.10.5"
  }
 },
 "nbformat": 4,
 "nbformat_minor": 2
}
